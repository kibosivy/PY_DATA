{
 "cells": [
  {
   "cell_type": "code",
   "execution_count": 2,
   "id": "516e8235",
   "metadata": {},
   "outputs": [],
   "source": [
    "# intro to numpy arrays\n",
    "# - allows us to do mathematical operations, scientific computation & analysis in python language\n",
    "# -Numerical Python\n",
    "# -Arrays= ndarrays\n",
    "# -multidimensional,homogenous,can do element-wise ,easy to access"
   ]
  },
  {
   "cell_type": "code",
   "execution_count": 1,
   "id": "1382f855",
   "metadata": {},
   "outputs": [],
   "source": [
    "# dimensions in array\n",
    "\n",
    "# 0D array-scalar: an array made up of only one numerical value\n",
    "# 1D array-vector:list of elements\n",
    "# 2D: list of elements are the elements\n",
    "# 3D: 2D arrays are the elements"
   ]
  },
  {
   "cell_type": "code",
   "execution_count": 3,
   "id": "08f1081b",
   "metadata": {},
   "outputs": [
    {
     "data": {
      "text/plain": [
       "array([1, 2, 3, 4, 5])"
      ]
     },
     "execution_count": 3,
     "metadata": {},
     "output_type": "execute_result"
    }
   ],
   "source": [
    "# arrays from lists or tuples\n",
    "# np.array()\n",
    "\n",
    "import numpy as np\n",
    "\n",
    "my_list = [1,2,3,4,5]\n",
    "\n",
    "arr1 = np.array(my_list)\n",
    "arr1"
   ]
  },
  {
   "cell_type": "code",
   "execution_count": 5,
   "id": "e8636b93",
   "metadata": {},
   "outputs": [
    {
     "data": {
      "text/plain": [
       "array([[1, 2, 3],\n",
       "       [4, 5, 6]])"
      ]
     },
     "execution_count": 5,
     "metadata": {},
     "output_type": "execute_result"
    }
   ],
   "source": [
    "my_list = [[1,2,3],[4,5,6]]\n",
    "arr2 = np.array(my_list)\n",
    "arr2"
   ]
  },
  {
   "cell_type": "code",
   "execution_count": 6,
   "id": "adf837fc",
   "metadata": {},
   "outputs": [
    {
     "data": {
      "text/plain": [
       "array([[0.64668171, 0.82050997, 0.88082228],\n",
       "       [0.05269202, 0.87048306, 0.82441602]])"
      ]
     },
     "execution_count": 6,
     "metadata": {},
     "output_type": "execute_result"
    }
   ],
   "source": [
    "# array from random\n",
    "arr3 = np.random.rand(2,3)\n",
    "arr3"
   ]
  },
  {
   "cell_type": "code",
   "execution_count": null,
   "id": "c5587cdb",
   "metadata": {},
   "outputs": [
    {
     "name": "stdout",
     "output_type": "stream",
     "text": [
      "[[1 0 3 4 2]\n",
      " [0 2 1 4 1]\n",
      " [2 4 2 0 1]\n",
      " [2 0 2 1 3]\n",
      " [0 3 2 1 4]]\n"
     ]
    }
   ],
   "source": [
    "arr4 = np.random.randint(5,size=(5,5))\n",
    "print(arr4)"
   ]
  },
  {
   "cell_type": "code",
   "execution_count": 8,
   "id": "95a6ce5c",
   "metadata": {},
   "outputs": [
    {
     "data": {
      "text/plain": [
       "array([[[9, 9, 9, 9],\n",
       "        [9, 9, 9, 9],\n",
       "        [9, 9, 9, 9]],\n",
       "\n",
       "       [[9, 9, 9, 9],\n",
       "        [9, 9, 9, 9],\n",
       "        [9, 9, 9, 9]]])"
      ]
     },
     "execution_count": 8,
     "metadata": {},
     "output_type": "execute_result"
    }
   ],
   "source": [
    "arr5 = np.full((2,3,4),9)\n",
    "arr5"
   ]
  },
  {
   "cell_type": "code",
   "execution_count": 9,
   "id": "e7f9a82f",
   "metadata": {},
   "outputs": [
    {
     "data": {
      "text/plain": [
       "array([ 0,  2,  4,  6,  8, 10, 12, 14, 16, 18, 20, 22, 24, 26, 28, 30, 32,\n",
       "       34, 36, 38, 40, 42, 44, 46, 48])"
      ]
     },
     "execution_count": 9,
     "metadata": {},
     "output_type": "execute_result"
    }
   ],
   "source": [
    "arr6 = np.arange(0,50,2)\n",
    "arr6"
   ]
  },
  {
   "cell_type": "code",
   "execution_count": 10,
   "id": "8ec36b05",
   "metadata": {},
   "outputs": [
    {
     "data": {
      "text/plain": [
       "array([[1., 0., 0., 0.],\n",
       "       [0., 1., 0., 0.],\n",
       "       [0., 0., 1., 0.],\n",
       "       [0., 0., 0., 1.]])"
      ]
     },
     "execution_count": 10,
     "metadata": {},
     "output_type": "execute_result"
    }
   ],
   "source": [
    "arr7 = np.identity(4)\n",
    "arr7"
   ]
  },
  {
   "cell_type": "code",
   "execution_count": 12,
   "id": "81961a54",
   "metadata": {},
   "outputs": [
    {
     "data": {
      "text/plain": [
       "array([[0., 1., 0., 0.],\n",
       "       [0., 0., 1., 0.],\n",
       "       [0., 0., 0., 1.],\n",
       "       [0., 0., 0., 0.]])"
      ]
     },
     "execution_count": 12,
     "metadata": {},
     "output_type": "execute_result"
    }
   ],
   "source": [
    "arr8 = np.eye(4,k=1)\n",
    "arr8"
   ]
  },
  {
   "cell_type": "code",
   "execution_count": 18,
   "id": "62a98e5f",
   "metadata": {},
   "outputs": [
    {
     "name": "stdout",
     "output_type": "stream",
     "text": [
      "[[38 36 39 39 36 36 36]\n",
      " [39 38 35 35 38 38 35]\n",
      " [37 36 35 35 36 37 37]\n",
      " [37 38 35 36 36 35 35]\n",
      " [36 39 36 37 38 36 38]]\n"
     ]
    }
   ],
   "source": [
    "arr9 = np.random.randint(35,40,size=(5,7))\n",
    "print(arr9)"
   ]
  },
  {
   "cell_type": "code",
   "execution_count": 20,
   "id": "9d90b892",
   "metadata": {},
   "outputs": [
    {
     "data": {
      "text/plain": [
       "array([[11, 23, 23,  7, 21,  8, 21,  0, 14,  1, 19,  3,  9,  5,  7, 12,\n",
       "         8,  2, 23,  4, 14, 23,  4,  9,  4,  7, 23, 14,  6, 20],\n",
       "       [ 1,  8, 16, 12, 22,  1,  7, 19, 17, 19, 10,  8, 13, 23,  6, 13,\n",
       "         7,  1, 15,  2, 16, 17,  4,  4, 11,  2, 15, 19, 22, 19],\n",
       "       [19, 19,  0, 20, 19,  6,  3,  2, 21,  9, 11, 13, 16,  0, 13, 16,\n",
       "         2, 19, 17, 24, 21,  2, 13,  3,  1,  2, 17,  1,  6, 12],\n",
       "       [19, 16, 11, 22, 17,  5,  1, 24, 13, 23, 22, 17,  0,  9, 22, 24,\n",
       "         6,  7,  7,  4, 16,  7,  8, 11, 10, 16, 15, 14, 19, 21],\n",
       "       [13, 19, 24,  2, 18, 20, 14, 24, 23,  3,  4, 23, 18,  0,  4, 21,\n",
       "         9,  8,  4,  6, 19,  0,  7, 18, 15, 21,  0, 16,  7, 24],\n",
       "       [ 9, 18, 20,  2,  9, 19,  5,  7, 22,  5,  9,  9,  8,  4, 17,  6,\n",
       "         0,  5,  2, 13, 13, 24, 15, 15, 15, 18, 22, 21, 18, 16],\n",
       "       [21,  2, 18, 15, 17, 22,  8,  2, 15, 10, 17, 21,  4, 18,  6,  2,\n",
       "         2, 16, 16, 15, 23,  7,  6,  3,  4,  4,  1, 18, 22, 16],\n",
       "       [22, 14,  2,  2, 22,  3, 23,  5,  9, 18,  7,  1,  8, 12, 20,  4,\n",
       "        21,  1,  1, 22,  1,  0, 17,  7, 11,  2, 23, 10,  4,  9],\n",
       "       [ 3,  0, 14,  5, 23,  4,  6,  5, 10, 21, 24, 11, 13,  1, 18, 18,\n",
       "        14,  9, 11, 13, 12,  0, 24, 21, 24, 22,  6, 18,  3, 12],\n",
       "       [ 1,  1,  3, 19, 10, 18, 12,  9, 14, 12, 16,  5, 19, 18, 13,  8,\n",
       "        23,  6, 18, 19,  8,  9, 21,  4, 17, 18, 13, 12,  0, 24],\n",
       "       [ 3, 16, 20, 21, 19,  3, 20,  5, 24, 14, 18, 11,  3,  2, 20,  3,\n",
       "        18,  4,  8, 14,  6, 19,  1, 24, 14, 23,  0, 21, 19, 22],\n",
       "       [ 6, 18,  0,  2, 15, 14, 18, 21,  7, 24, 14, 24, 15,  8,  8, 14,\n",
       "         1, 14, 21, 11,  5,  9, 24,  4,  4, 24,  2, 18, 16,  7],\n",
       "       [ 8, 23,  0,  6, 17, 16, 20, 13, 21, 22, 23, 23, 14,  5, 17,  6,\n",
       "        23, 16, 24,  6, 12, 10,  7, 10,  6, 18,  0, 11, 18,  7],\n",
       "       [ 1, 19, 16, 17,  3, 19,  6, 21,  1, 19, 19,  6,  5,  3, 12,  4,\n",
       "         4, 20, 22, 14, 23, 17, 19,  1, 20, 23,  9,  6, 15,  1],\n",
       "       [23,  6, 15, 12, 23,  9, 10, 21, 20, 18, 12,  3, 17, 14, 16, 14,\n",
       "        16, 13,  5, 10, 12,  9, 21, 23,  5,  3, 17,  9, 19, 20],\n",
       "       [ 4, 22, 10, 10,  3,  3,  3,  8, 18, 20, 21, 21, 13, 22,  6, 18,\n",
       "        19, 19,  8, 20, 12,  3, 10, 16, 13,  9, 20,  9,  8,  0],\n",
       "       [15, 11,  4, 11, 11,  6, 18,  0, 11, 14, 24,  2, 13, 24,  4,  9,\n",
       "         7, 14,  8, 13, 15, 11, 16, 17, 19, 13, 24,  7, 19, 11],\n",
       "       [19, 23,  8, 20,  0, 14,  8,  3, 21,  0, 15, 12,  8, 22, 14,  5,\n",
       "        16,  1,  5, 22,  0, 16, 14,  2, 23,  8, 10, 18, 19, 15],\n",
       "       [19,  3, 19,  3,  6, 17, 14, 13, 14,  5, 14,  5,  2,  0,  3,  2,\n",
       "        21,  2, 15,  5,  2, 20,  1, 23, 21,  8,  6,  7, 23,  5],\n",
       "       [20,  3,  7,  0, 19,  3, 14, 24, 18, 10, 22, 18,  6, 18, 11, 19,\n",
       "        16, 14,  7, 14, 21,  3, 10,  5, 19, 23, 21,  5, 11, 22],\n",
       "       [22, 21,  9, 16, 24,  5, 14,  4, 10, 19,  0, 16,  0, 24,  8, 11,\n",
       "         0, 23, 13,  6, 11, 23, 22, 19,  1,  1, 21,  7, 24, 24],\n",
       "       [19, 22,  1, 18,  3, 17,  1, 14, 17,  8, 18,  4,  6, 22,  4,  8,\n",
       "        23, 19, 16,  0, 19,  3, 10, 22, 16,  1,  7, 13, 14,  8],\n",
       "       [ 5, 23,  0, 23, 22, 10,  2,  5,  2, 23,  1,  2, 11, 19,  5,  5,\n",
       "        21, 22, 12, 10,  3, 18, 17,  4, 24,  6, 17,  8, 18, 16],\n",
       "       [13,  0,  7,  3,  0,  8, 14, 13,  7, 23,  6,  8, 18, 14, 22,  9,\n",
       "         8, 22, 24,  3, 21, 24, 16, 15, 24,  7, 24,  8,  0, 21],\n",
       "       [ 5,  8, 15,  9,  7, 24,  3,  9,  9, 21, 11, 16, 13, 22,  6, 16,\n",
       "        23, 22,  9,  0, 13,  9,  2, 24,  5, 20,  3,  4, 22,  6],\n",
       "       [ 5,  6, 21, 12, 10, 24, 19, 23, 12,  5, 10, 13, 20, 19, 18, 14,\n",
       "        12,  3, 18,  7,  2, 13, 24, 16, 23, 12, 11, 14, 12, 15],\n",
       "       [23,  6, 19, 17,  6, 23,  1,  6, 17,  2, 14, 13, 10, 11,  7, 15,\n",
       "        14, 20, 16, 16,  0, 22,  2,  8,  0, 24, 18,  9, 21,  5],\n",
       "       [ 9,  6, 21, 21,  2, 13, 18, 16, 22, 12,  9,  0, 18, 18,  2, 12,\n",
       "        17,  3, 13,  6,  0,  9, 23,  8, 11, 13, 11, 24,  8,  2],\n",
       "       [10, 14,  4, 21, 14,  5,  0, 12, 14, 18, 24,  9, 20, 17, 14,  9,\n",
       "         3, 21, 12, 18,  4,  1, 10, 10, 18, 14,  2, 15, 21,  5],\n",
       "       [19, 11, 24, 12, 19,  1,  0, 23, 12,  3,  9,  7, 16, 23, 22,  3,\n",
       "        10,  5, 19, 11,  9, 18, 12, 22, 14, 15, 15,  8, 13,  0]],\n",
       "      dtype=int32)"
      ]
     },
     "execution_count": 20,
     "metadata": {},
     "output_type": "execute_result"
    }
   ],
   "source": [
    "arr10 = np.random.randint(25,size=(30,30))\n",
    "arr10"
   ]
  },
  {
   "cell_type": "code",
   "execution_count": 32,
   "id": "6dbfd0e6",
   "metadata": {},
   "outputs": [
    {
     "name": "stdout",
     "output_type": "stream",
     "text": [
      "[[ 2 30 17]\n",
      " [37 31 25]\n",
      " [21 40 14]\n",
      " [40 35 40]\n",
      " [23 23 17]]\n"
     ]
    }
   ],
   "source": [
    "# array attributes-characteristics\n",
    "# -dimensions\n",
    "# -size\n",
    "# -shape\n",
    "# -data type\n",
    "\n",
    "import numpy as np\n",
    "\n",
    "x1 = np.random.randint(50,size=(3,5)).reshape(5,3)\n",
    "print(x1)"
   ]
  },
  {
   "cell_type": "code",
   "execution_count": 33,
   "id": "a2531e1f",
   "metadata": {},
   "outputs": [
    {
     "data": {
      "text/plain": [
       "array([[ 2, 30, 17, 37, 31],\n",
       "       [25, 21, 40, 14, 40],\n",
       "       [35, 40, 23, 23, 17]], dtype=int32)"
      ]
     },
     "execution_count": 33,
     "metadata": {},
     "output_type": "execute_result"
    }
   ],
   "source": [
    "x1.reshape(3,5)"
   ]
  },
  {
   "cell_type": "code",
   "execution_count": 25,
   "id": "ea2aa8b2",
   "metadata": {},
   "outputs": [
    {
     "name": "stdout",
     "output_type": "stream",
     "text": [
      "(3, 5)\n"
     ]
    }
   ],
   "source": [
    "print(x1.shape)"
   ]
  },
  {
   "cell_type": "code",
   "execution_count": 26,
   "id": "7c8419f3",
   "metadata": {},
   "outputs": [
    {
     "name": "stdout",
     "output_type": "stream",
     "text": [
      "2\n"
     ]
    }
   ],
   "source": [
    "print(x1.ndim)"
   ]
  },
  {
   "cell_type": "code",
   "execution_count": 27,
   "id": "e7d28f40",
   "metadata": {},
   "outputs": [
    {
     "name": "stdout",
     "output_type": "stream",
     "text": [
      "int32\n"
     ]
    }
   ],
   "source": [
    "print(x1.dtype)"
   ]
  },
  {
   "cell_type": "code",
   "execution_count": 29,
   "id": "bd6007c8",
   "metadata": {},
   "outputs": [
    {
     "name": "stdout",
     "output_type": "stream",
     "text": [
      "15\n"
     ]
    }
   ],
   "source": [
    "print(x1.size)"
   ]
  },
  {
   "cell_type": "markdown",
   "id": "874fa43a",
   "metadata": {},
   "source": [
    "# indexing\n",
    "accessing element in array"
   ]
  },
  {
   "cell_type": "code",
   "execution_count": 36,
   "id": "0cc79444",
   "metadata": {},
   "outputs": [
    {
     "name": "stdout",
     "output_type": "stream",
     "text": [
      "16\n"
     ]
    }
   ],
   "source": [
    "x2 = np.arange(10,20,2)\n",
    "print(x2[3])"
   ]
  },
  {
   "cell_type": "code",
   "execution_count": 40,
   "id": "ad9830c5",
   "metadata": {},
   "outputs": [
    {
     "data": {
      "text/plain": [
       "array([[[10, 13, 16],\n",
       "        [19, 22, 25],\n",
       "        [28, 31, 34],\n",
       "        [37, 40, 43],\n",
       "        [46, 49, 52]],\n",
       "\n",
       "       [[55, 58, 61],\n",
       "        [64, 67, 70],\n",
       "        [73, 76, 79],\n",
       "        [82, 85, 88],\n",
       "        [91, 94, 97]]])"
      ]
     },
     "execution_count": 40,
     "metadata": {},
     "output_type": "execute_result"
    }
   ],
   "source": [
    "x3 = np.arange(10,100,3).reshape(2,5,3)\n",
    "x3"
   ]
  },
  {
   "cell_type": "code",
   "execution_count": 43,
   "id": "84501de2",
   "metadata": {},
   "outputs": [
    {
     "data": {
      "text/plain": [
       "np.int64(100)"
      ]
     },
     "execution_count": 43,
     "metadata": {},
     "output_type": "execute_result"
    }
   ],
   "source": [
    "x3[1,2,1]"
   ]
  },
  {
   "cell_type": "code",
   "execution_count": 45,
   "id": "59a13b1d",
   "metadata": {},
   "outputs": [
    {
     "data": {
      "text/plain": [
       "array([[[ 10,  13,  16],\n",
       "        [ 19,  22,  25],\n",
       "        [ 28,  31,  34],\n",
       "        [ 37,  40,  43],\n",
       "        [ 46,  49,  52]],\n",
       "\n",
       "       [[ 55,  58,  61],\n",
       "        [ 64,  67,  70],\n",
       "        [ 73, 100,  79],\n",
       "        [ 82,  85,  88],\n",
       "        [ 91,  94,  97]]])"
      ]
     },
     "execution_count": 45,
     "metadata": {},
     "output_type": "execute_result"
    }
   ],
   "source": [
    "x3[1,2,1]=100\n",
    "x3"
   ]
  },
  {
   "cell_type": "markdown",
   "id": "9fb1d4b1",
   "metadata": {},
   "source": [
    "# slicing"
   ]
  },
  {
   "cell_type": "code",
   "execution_count": 47,
   "id": "e43813a9",
   "metadata": {},
   "outputs": [
    {
     "data": {
      "text/plain": [
       "array([0, 1, 2, 3, 4, 5, 6, 7, 8, 9])"
      ]
     },
     "execution_count": 47,
     "metadata": {},
     "output_type": "execute_result"
    }
   ],
   "source": [
    "# (start,stop,step)\n",
    "\n",
    "x4 = np.arange(10)\n",
    "x4"
   ]
  },
  {
   "cell_type": "code",
   "execution_count": 49,
   "id": "24cf11b4",
   "metadata": {},
   "outputs": [
    {
     "data": {
      "text/plain": [
       "array([4, 5, 6])"
      ]
     },
     "execution_count": 49,
     "metadata": {},
     "output_type": "execute_result"
    }
   ],
   "source": [
    "x4[4:7]"
   ]
  },
  {
   "cell_type": "code",
   "execution_count": 106,
   "id": "e35b2aa3",
   "metadata": {},
   "outputs": [
    {
     "data": {
      "text/plain": [
       "array([[23, 56, 78, 90],\n",
       "       [67, 50, 45, 89],\n",
       "       [34, 69, 33, 54]])"
      ]
     },
     "execution_count": 106,
     "metadata": {},
     "output_type": "execute_result"
    }
   ],
   "source": [
    "x5 = np.array([23,56,78,90,67,50,45,89,34,69,33,54]).reshape(3,4)\n",
    "x5"
   ]
  },
  {
   "cell_type": "code",
   "execution_count": 66,
   "id": "ee550c65",
   "metadata": {},
   "outputs": [
    {
     "data": {
      "text/plain": [
       "array([67, 89])"
      ]
     },
     "execution_count": 66,
     "metadata": {},
     "output_type": "execute_result"
    }
   ],
   "source": [
    "# [row,colomun]\n",
    "\n",
    "x5[1:3,1]"
   ]
  },
  {
   "cell_type": "code",
   "execution_count": 67,
   "id": "6a0d1be7",
   "metadata": {},
   "outputs": [
    {
     "data": {
      "text/plain": [
       "array([78, 50, 34])"
      ]
     },
     "execution_count": 67,
     "metadata": {},
     "output_type": "execute_result"
    }
   ],
   "source": [
    "x5[0:3,2]"
   ]
  },
  {
   "cell_type": "code",
   "execution_count": 72,
   "id": "8ee979ea",
   "metadata": {},
   "outputs": [
    {
     "data": {
      "text/plain": [
       "array([[56, 78],\n",
       "       [67, 50]])"
      ]
     },
     "execution_count": 72,
     "metadata": {},
     "output_type": "execute_result"
    }
   ],
   "source": [
    "x5[0:2,1:3]"
   ]
  },
  {
   "cell_type": "code",
   "execution_count": 84,
   "id": "99618852",
   "metadata": {},
   "outputs": [
    {
     "data": {
      "text/plain": [
       "array([[23, 56, 78, 90],\n",
       "       [67, 50, 45, 89],\n",
       "       [34, 10, 30, 29]])"
      ]
     },
     "execution_count": 84,
     "metadata": {},
     "output_type": "execute_result"
    }
   ],
   "source": [
    "x6 = np.array([23,56,78,90,67,50,45,89,34,10,30,29]).reshape(3,4)\n",
    "x6"
   ]
  },
  {
   "cell_type": "code",
   "execution_count": 78,
   "id": "61a6ed34",
   "metadata": {},
   "outputs": [
    {
     "data": {
      "text/plain": [
       "array([90, 89, 29])"
      ]
     },
     "execution_count": 78,
     "metadata": {},
     "output_type": "execute_result"
    }
   ],
   "source": [
    "x6[:,3]"
   ]
  },
  {
   "cell_type": "code",
   "execution_count": 86,
   "id": "ff972c6d",
   "metadata": {},
   "outputs": [
    {
     "data": {
      "text/plain": [
       "array([0, 1, 2, 3, 4, 5, 6, 7, 8, 9])"
      ]
     },
     "execution_count": 86,
     "metadata": {},
     "output_type": "execute_result"
    }
   ],
   "source": [
    "x4"
   ]
  },
  {
   "cell_type": "code",
   "execution_count": null,
   "id": "8ab04a85",
   "metadata": {},
   "outputs": [
    {
     "data": {
      "text/plain": [
       "array([9, 8, 7, 6, 5, 4, 3, 2, 1, 0])"
      ]
     },
     "execution_count": 88,
     "metadata": {},
     "output_type": "execute_result"
    }
   ],
   "source": [
    "# rearrange from the back\n",
    "x4[::-1]"
   ]
  },
  {
   "cell_type": "code",
   "execution_count": null,
   "id": "b326066f",
   "metadata": {},
   "outputs": [
    {
     "name": "stdout",
     "output_type": "stream",
     "text": [
      "This is not a palindrome\n"
     ]
    }
   ],
   "source": [
    "# PALINDROME\n",
    "a = 'BOB'\n",
    "b = a[::-1]\n",
    "if a == b :\n",
    "    print('This is a palindrome')\n",
    "else:\n",
    "    print('This is not a palindrome')"
   ]
  },
  {
   "cell_type": "markdown",
   "id": "9f570842",
   "metadata": {},
   "source": [
    "# Vectorization\n",
    "Universal functions-arithmetic,trigonometic,aggregation"
   ]
  },
  {
   "cell_type": "code",
   "execution_count": 95,
   "id": "1c965ef5",
   "metadata": {},
   "outputs": [
    {
     "data": {
      "text/plain": [
       "array([[23, 56, 78],\n",
       "       [90, 67, 50],\n",
       "       [45, 89, 34]])"
      ]
     },
     "execution_count": 95,
     "metadata": {},
     "output_type": "execute_result"
    }
   ],
   "source": [
    "x5"
   ]
  },
  {
   "cell_type": "code",
   "execution_count": 96,
   "id": "bfa8badf",
   "metadata": {},
   "outputs": [
    {
     "data": {
      "text/plain": [
       "array([[28, 61, 83],\n",
       "       [95, 72, 55],\n",
       "       [50, 94, 39]])"
      ]
     },
     "execution_count": 96,
     "metadata": {},
     "output_type": "execute_result"
    }
   ],
   "source": [
    "np.add(x5,5)"
   ]
  },
  {
   "cell_type": "code",
   "execution_count": 97,
   "id": "05fad696",
   "metadata": {},
   "outputs": [
    {
     "data": {
      "text/plain": [
       "array([[ 529, 3136, 6084],\n",
       "       [8100, 4489, 2500],\n",
       "       [2025, 7921, 1156]])"
      ]
     },
     "execution_count": 97,
     "metadata": {},
     "output_type": "execute_result"
    }
   ],
   "source": [
    "np.power(x5,2)"
   ]
  },
  {
   "cell_type": "code",
   "execution_count": 98,
   "id": "266ea9a9",
   "metadata": {},
   "outputs": [
    {
     "data": {
      "text/plain": [
       "array([[4.79583152, 7.48331477, 8.83176087],\n",
       "       [9.48683298, 8.18535277, 7.07106781],\n",
       "       [6.70820393, 9.43398113, 5.83095189]])"
      ]
     },
     "execution_count": 98,
     "metadata": {},
     "output_type": "execute_result"
    }
   ],
   "source": [
    "np.sqrt(x5)"
   ]
  },
  {
   "cell_type": "code",
   "execution_count": 101,
   "id": "bb8bfbf6",
   "metadata": {},
   "outputs": [
    {
     "data": {
      "text/plain": [
       "array([0.0980353 , 0.82227406, 0.28844951, 0.26919327, 0.96172306,\n",
       "       0.34126439, 0.36572323, 0.27725751, 0.74028978, 0.41987498,\n",
       "       0.34410471, 0.11522783, 0.01707069, 0.90531674, 0.36103965,\n",
       "       0.94890951, 0.58568859, 0.17404319, 0.35317346, 0.2074541 ])"
      ]
     },
     "execution_count": 101,
     "metadata": {},
     "output_type": "execute_result"
    }
   ],
   "source": [
    "x7 = np.random.rand(20)\n",
    "x7"
   ]
  },
  {
   "cell_type": "code",
   "execution_count": 104,
   "id": "81599338",
   "metadata": {},
   "outputs": [
    {
     "data": {
      "text/plain": [
       "array([0.09835059, 1.07661166, 0.296725  , 0.2758898 , 1.43360888,\n",
       "       0.35516012, 0.38295112, 0.2845874 , 0.91362106, 0.4464226 ,\n",
       "       0.35836195, 0.11574053, 0.01707235, 1.27401087, 0.37759026,\n",
       "       1.39516457, 0.66332934, 0.17582206, 0.36862899, 0.21048233])"
      ]
     },
     "execution_count": 104,
     "metadata": {},
     "output_type": "execute_result"
    }
   ],
   "source": [
    "np.tan(x7)"
   ]
  },
  {
   "cell_type": "code",
   "execution_count": 113,
   "id": "60300419",
   "metadata": {},
   "outputs": [
    {
     "data": {
      "text/plain": [
       "array([[23, 56, 78, 90],\n",
       "       [67, 50, 45, 89],\n",
       "       [34, 69, 33, 54]])"
      ]
     },
     "execution_count": 113,
     "metadata": {},
     "output_type": "execute_result"
    }
   ],
   "source": [
    "x5"
   ]
  },
  {
   "cell_type": "code",
   "execution_count": 115,
   "id": "46e0719c",
   "metadata": {},
   "outputs": [
    {
     "data": {
      "text/plain": [
       "array([247, 251, 190])"
      ]
     },
     "execution_count": 115,
     "metadata": {},
     "output_type": "execute_result"
    }
   ],
   "source": [
    "np.sum(x5, axis=1)"
   ]
  },
  {
   "cell_type": "code",
   "execution_count": 116,
   "id": "864080f7",
   "metadata": {},
   "outputs": [
    {
     "data": {
      "text/plain": [
       "array([124, 175, 156, 233])"
      ]
     },
     "execution_count": 116,
     "metadata": {},
     "output_type": "execute_result"
    }
   ],
   "source": [
    "np.sum(x5, axis=0)"
   ]
  },
  {
   "cell_type": "code",
   "execution_count": 118,
   "id": "8611edad",
   "metadata": {},
   "outputs": [
    {
     "data": {
      "text/plain": [
       "array([1, 3, 5, 7, 9])"
      ]
     },
     "execution_count": 118,
     "metadata": {},
     "output_type": "execute_result"
    }
   ],
   "source": [
    "arr1=np.arange(5)\n",
    "arr2=np.array([1,2,3,4,5])\n",
    "np.add(arr1,arr2)"
   ]
  },
  {
   "cell_type": "code",
   "execution_count": 119,
   "id": "0355a570",
   "metadata": {},
   "outputs": [
    {
     "data": {
      "text/plain": [
       "array([0, 1, 2, 3, 4])"
      ]
     },
     "execution_count": 119,
     "metadata": {},
     "output_type": "execute_result"
    }
   ],
   "source": [
    "arr1"
   ]
  },
  {
   "cell_type": "markdown",
   "id": "b16cfafd",
   "metadata": {},
   "source": [
    "# BROADCASTING\n",
    "if trailing dimension is 1 or equal\n",
    "same or 1\n",
    "broadcast the array that has the smaller dimension into the bigger"
   ]
  },
  {
   "cell_type": "code",
   "execution_count": null,
   "id": "54eb7ee6",
   "metadata": {},
   "outputs": [
    {
     "data": {
      "text/plain": [
       "array([[16, 26, 36]])"
      ]
     },
     "execution_count": 131,
     "metadata": {},
     "output_type": "execute_result"
    }
   ],
   "source": [
    "arr1 = np.array([10,20,30])\n",
    "arr2 = np.random.randint(7,size=(3,2))\n",
    "# print(arr1)\n",
    "# print(arr2)\n",
    "np.add(arr1,arr2)"
   ]
  }
 ],
 "metadata": {
  "kernelspec": {
   "display_name": "venv",
   "language": "python",
   "name": "python3"
  },
  "language_info": {
   "codemirror_mode": {
    "name": "ipython",
    "version": 3
   },
   "file_extension": ".py",
   "mimetype": "text/x-python",
   "name": "python",
   "nbconvert_exporter": "python",
   "pygments_lexer": "ipython3",
   "version": "3.13.2"
  }
 },
 "nbformat": 4,
 "nbformat_minor": 5
}
