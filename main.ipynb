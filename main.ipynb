{
 "cells": [
  {
   "cell_type": "code",
   "execution_count": 2,
   "id": "516e8235",
   "metadata": {},
   "outputs": [],
   "source": [
    "# intro to numpy arrays\n",
    "# - allows us to do mathematical operations, scientific computation & analysis in python language\n",
    "# -Numerical Python\n",
    "# -Arrays= ndarrays\n",
    "# -multidimensional,homogenous,can do element-wise ,easy to access"
   ]
  },
  {
   "cell_type": "code",
   "execution_count": 1,
   "id": "1382f855",
   "metadata": {},
   "outputs": [],
   "source": [
    "# dimensions in array\n",
    "\n",
    "# 0D array-scalar: an array made up of only one numerical value\n",
    "# 1D array-vector:list of elements\n",
    "# 2D: list of elements are the elements\n",
    "# 3D: 2D arrays are the elements"
   ]
  },
  {
   "cell_type": "code",
   "execution_count": 3,
   "id": "08f1081b",
   "metadata": {},
   "outputs": [
    {
     "data": {
      "text/plain": [
       "array([1, 2, 3, 4, 5])"
      ]
     },
     "execution_count": 3,
     "metadata": {},
     "output_type": "execute_result"
    }
   ],
   "source": [
    "# arrays from lists or tuples\n",
    "# np.array()\n",
    "\n",
    "import numpy as np\n",
    "\n",
    "my_list = [1,2,3,4,5]\n",
    "\n",
    "arr1 = np.array(my_list)\n",
    "arr1"
   ]
  },
  {
   "cell_type": "code",
   "execution_count": 5,
   "id": "e8636b93",
   "metadata": {},
   "outputs": [
    {
     "data": {
      "text/plain": [
       "array([[1, 2, 3],\n",
       "       [4, 5, 6]])"
      ]
     },
     "execution_count": 5,
     "metadata": {},
     "output_type": "execute_result"
    }
   ],
   "source": [
    "my_list = [[1,2,3],[4,5,6]]\n",
    "arr2 = np.array(my_list)\n",
    "arr2"
   ]
  },
  {
   "cell_type": "code",
   "execution_count": 6,
   "id": "adf837fc",
   "metadata": {},
   "outputs": [
    {
     "data": {
      "text/plain": [
       "array([[0.64668171, 0.82050997, 0.88082228],\n",
       "       [0.05269202, 0.87048306, 0.82441602]])"
      ]
     },
     "execution_count": 6,
     "metadata": {},
     "output_type": "execute_result"
    }
   ],
   "source": [
    "# array from random\n",
    "arr3 = np.random.rand(2,3)\n",
    "arr3"
   ]
  },
  {
   "cell_type": "code",
   "execution_count": null,
   "id": "c5587cdb",
   "metadata": {},
   "outputs": [
    {
     "name": "stdout",
     "output_type": "stream",
     "text": [
      "[[1 0 3 4 2]\n",
      " [0 2 1 4 1]\n",
      " [2 4 2 0 1]\n",
      " [2 0 2 1 3]\n",
      " [0 3 2 1 4]]\n"
     ]
    }
   ],
   "source": [
    "arr4 = np.random.randint(5,size=(5,5))\n",
    "print(arr4)"
   ]
  },
  {
   "cell_type": "code",
   "execution_count": 8,
   "id": "95a6ce5c",
   "metadata": {},
   "outputs": [
    {
     "data": {
      "text/plain": [
       "array([[[9, 9, 9, 9],\n",
       "        [9, 9, 9, 9],\n",
       "        [9, 9, 9, 9]],\n",
       "\n",
       "       [[9, 9, 9, 9],\n",
       "        [9, 9, 9, 9],\n",
       "        [9, 9, 9, 9]]])"
      ]
     },
     "execution_count": 8,
     "metadata": {},
     "output_type": "execute_result"
    }
   ],
   "source": [
    "arr5 = np.full((2,3,4),9)\n",
    "arr5"
   ]
  },
  {
   "cell_type": "code",
   "execution_count": 9,
   "id": "e7f9a82f",
   "metadata": {},
   "outputs": [
    {
     "data": {
      "text/plain": [
       "array([ 0,  2,  4,  6,  8, 10, 12, 14, 16, 18, 20, 22, 24, 26, 28, 30, 32,\n",
       "       34, 36, 38, 40, 42, 44, 46, 48])"
      ]
     },
     "execution_count": 9,
     "metadata": {},
     "output_type": "execute_result"
    }
   ],
   "source": [
    "arr6 = np.arange(0,50,2)\n",
    "arr6"
   ]
  },
  {
   "cell_type": "code",
   "execution_count": 10,
   "id": "8ec36b05",
   "metadata": {},
   "outputs": [
    {
     "data": {
      "text/plain": [
       "array([[1., 0., 0., 0.],\n",
       "       [0., 1., 0., 0.],\n",
       "       [0., 0., 1., 0.],\n",
       "       [0., 0., 0., 1.]])"
      ]
     },
     "execution_count": 10,
     "metadata": {},
     "output_type": "execute_result"
    }
   ],
   "source": [
    "arr7 = np.identity(4)\n",
    "arr7"
   ]
  },
  {
   "cell_type": "code",
   "execution_count": 12,
   "id": "81961a54",
   "metadata": {},
   "outputs": [
    {
     "data": {
      "text/plain": [
       "array([[0., 1., 0., 0.],\n",
       "       [0., 0., 1., 0.],\n",
       "       [0., 0., 0., 1.],\n",
       "       [0., 0., 0., 0.]])"
      ]
     },
     "execution_count": 12,
     "metadata": {},
     "output_type": "execute_result"
    }
   ],
   "source": [
    "arr8 = np.eye(4,k=1)\n",
    "arr8"
   ]
  },
  {
   "cell_type": "code",
   "execution_count": 15,
   "id": "62a98e5f",
   "metadata": {},
   "outputs": [
    {
     "name": "stdout",
     "output_type": "stream",
     "text": [
      "[[21 21  2 34 19 20 36]\n",
      " [13 32 11 10 20  0 18]\n",
      " [17 28  9 10 35 27  7]\n",
      " [ 8  9 14  3 22 16 19]\n",
      " [ 9  6  4  0 36  0  2]]\n"
     ]
    }
   ],
   "source": [
    "arr9 = np.random.randint(37,size=(5,7))\n",
    "print(arr9)"
   ]
  },
  {
   "cell_type": "code",
   "execution_count": 17,
   "id": "9d90b892",
   "metadata": {},
   "outputs": [
    {
     "data": {
      "text/plain": [
       "array([[27,  0,  6, 20, 19,  8, 17, 17, 25, 10, 12, 16,  9, 29, 24, 24,\n",
       "        29,  7, 29, 18, 28, 20, 23,  3, 19,  6, 22, 25, 21, 24],\n",
       "       [24, 28,  3, 13, 28, 26,  0, 11, 22, 26, 16, 28,  1, 27,  4, 21,\n",
       "         3, 10,  8,  6,  6, 16,  8, 13,  1, 14, 29, 13, 28, 18],\n",
       "       [18, 15, 29,  2,  4,  1, 25,  6,  8, 21, 22,  1,  5, 14, 25, 17,\n",
       "        19,  5,  4, 14, 14, 21,  5, 21,  8, 11, 29,  6, 28, 27],\n",
       "       [13,  8, 15, 18, 27, 21, 25, 21,  8, 27,  7, 12, 13,  0,  9, 22,\n",
       "         0,  7, 17, 23,  6,  2, 29, 29,  4, 28,  4, 20, 21, 29],\n",
       "       [27, 10,  5, 12, 25, 27,  6,  1, 28, 26, 16, 14,  0,  8, 17,  0,\n",
       "        21,  7, 25, 19,  0, 11, 19, 14,  0, 23, 16, 24,  6, 19],\n",
       "       [25, 22,  2, 20, 28, 19, 12, 21, 22, 25, 10, 21, 27, 15, 26,  7,\n",
       "        28, 15, 28,  5, 23, 26,  8, 29, 21,  3,  9, 15, 18,  6],\n",
       "       [ 0, 25, 24, 20, 20, 27,  0, 21, 18,  6, 27, 25, 24, 25,  5, 10,\n",
       "        23, 25,  9, 18,  4, 23,  5, 24, 17, 25,  9, 18,  4,  9],\n",
       "       [ 7, 27,  0, 29, 25,  6,  1, 25,  3, 25, 20,  9, 21,  0,  2, 26,\n",
       "        22, 19, 13,  0, 14,  3, 18, 26, 20,  3,  8,  9, 10, 17],\n",
       "       [14,  3, 18, 19,  8, 11,  2, 27, 18, 12, 27,  4, 20, 14, 23,  5,\n",
       "        10, 28, 17, 15,  4, 12,  4, 10, 21,  1,  0, 11, 24, 14],\n",
       "       [18,  0,  4, 20,  5, 29,  4, 26,  5,  7,  5,  5, 10, 29, 20,  2,\n",
       "        27, 25, 24, 11, 27, 21, 28, 24,  8,  4,  1,  3, 23, 15],\n",
       "       [ 5, 29, 18, 22,  8,  5, 11, 24, 17,  0, 21, 18,  2, 12, 13, 13,\n",
       "         7,  9,  7, 25, 29, 16, 28,  9, 12,  3, 22,  5, 10,  9],\n",
       "       [ 8, 17, 17,  8, 10, 27, 26, 25,  1,  7, 14, 18, 12, 29, 18, 13,\n",
       "        28,  2, 18, 26, 12, 10,  5,  4, 11, 17, 19, 17,  4, 27],\n",
       "       [21, 11,  8, 11, 10, 27, 16, 13, 20, 25,  3,  2,  9,  5, 26,  1,\n",
       "        23,  4, 14, 10, 26, 28, 11,  0, 23, 29, 22,  6, 20, 27],\n",
       "       [ 9, 26, 16, 23,  6, 23,  9, 17, 12, 27, 17, 28, 24, 29, 17, 15,\n",
       "        24,  7,  9, 28, 25, 18, 17,  8,  1,  9, 23, 20,  4,  3],\n",
       "       [ 9, 26, 27, 20, 12, 24,  1, 12,  0, 16, 28, 10, 25, 14, 16, 26,\n",
       "        16, 28, 25, 12, 19,  4, 24, 17, 15,  4,  7, 13,  4, 23],\n",
       "       [12, 28, 20,  9, 15,  1, 22, 10, 13, 16, 21, 27, 12, 13,  0, 22,\n",
       "         0, 14, 25,  3, 20, 19, 22, 28, 27, 22, 21,  8, 29, 12],\n",
       "       [19,  4, 14,  6,  7,  0,  8,  2,  7, 17, 21, 14,  3,  4, 26, 29,\n",
       "        10, 24, 25,  2,  8,  4,  4, 12, 21,  1,  5, 18,  0, 27],\n",
       "       [22, 21, 26, 29, 20, 19, 21, 17, 25, 20, 17, 24, 19, 16,  7, 11,\n",
       "         8,  9,  4,  2, 17, 14, 13, 29, 15,  1, 29, 14,  1,  5],\n",
       "       [18,  8,  8, 29, 27,  2, 24,  6, 27, 17,  9, 21, 19, 26,  1, 13,\n",
       "        20, 13, 23,  2, 13, 17, 22,  8,  4,  3,  9,  6,  9,  2],\n",
       "       [ 5, 11,  4,  5, 26,  7, 14, 15, 21,  0, 15, 28,  8,  1, 15, 21,\n",
       "         6, 13,  3, 26, 27, 23, 19, 25, 25, 29,  4, 29, 16,  5],\n",
       "       [12, 22, 11, 29,  8,  4,  6,  2, 10, 26, 10, 23, 13, 17, 15, 27,\n",
       "        27, 20,  5,  8, 14,  8, 25, 10, 28,  6, 24, 22,  0, 14],\n",
       "       [22, 29, 27, 20, 13,  2, 14, 28,  2,  4,  2, 26, 25, 14, 20, 18,\n",
       "        16, 19, 12, 24, 22, 26, 16,  3,  2, 10, 22,  6, 25,  8],\n",
       "       [24,  2, 11, 26,  6,  2, 21, 19,  9,  4, 24, 27, 26,  8, 16, 21,\n",
       "         7,  0, 10,  3, 25, 12,  9,  7, 18, 23,  4, 19,  4,  8],\n",
       "       [ 4,  1, 28, 13, 10, 13, 26, 29,  9,  3, 19, 19,  8, 10,  5, 24,\n",
       "        17,  9, 11, 21,  4,  4,  5,  2, 17, 19,  1, 13,  1,  4],\n",
       "       [ 4,  2, 24, 17, 24,  1, 23,  9, 12,  5,  0,  3,  7, 16, 12, 29,\n",
       "        29, 27,  3,  1,  8, 22, 14, 10, 22,  5, 10, 19, 15,  8]],\n",
       "      dtype=int32)"
      ]
     },
     "execution_count": 17,
     "metadata": {},
     "output_type": "execute_result"
    }
   ],
   "source": [
    "arr10 = np.random.randint(30,size=(25,30))\n",
    "arr10"
   ]
  }
 ],
 "metadata": {
  "kernelspec": {
   "display_name": "venv",
   "language": "python",
   "name": "python3"
  },
  "language_info": {
   "codemirror_mode": {
    "name": "ipython",
    "version": 3
   },
   "file_extension": ".py",
   "mimetype": "text/x-python",
   "name": "python",
   "nbconvert_exporter": "python",
   "pygments_lexer": "ipython3",
   "version": "3.13.2"
  }
 },
 "nbformat": 4,
 "nbformat_minor": 5
}
