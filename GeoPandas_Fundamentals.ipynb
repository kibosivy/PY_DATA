{
 "cells": [
  {
   "cell_type": "markdown",
   "metadata": {},
   "source": [
    "# Spatial Analysis with Geopandas\n",
    "\n",
    "A considerable amount of data generated is spatial in nature, for example earth observation data. As an analyst, you can uncover deeper insights from not only working with spatial data but by combining spatial data with other characteristics of those data points. For example, the location of schools in a county with the numbe of students, teachers etc in each of the schools. This opens the door for deeper and more useful analysis."
   ]
  },
  {
   "cell_type": "markdown",
   "metadata": {},
   "source": [
    "## Getting Started [Installation]\n",
    "We will be working with Geopandas, which is an open-source package for spatial analysis in Python. Now, Geopandas relies on very many libraries for it to function, so I suggest using 'anaconda' to install and work with Geopandas. This way, anaconda handles all the nitty gritty of installing all the necessary dependencies for you.\n",
    "\n",
    "#### Steps to setting up/installing Geopandas via Anaconda\n",
    "\n",
    "1. Go to the Anaconda Website, download the anaconda executable and run it on your PC. Follow all the steps.\n",
    "2. Open the Anaconda Command Prompt\n",
    "3. Create a virtual environment for your project\n",
    "\n",
    " \" conda create -n geopandas-env python=3.10 geopandas -y\"\n",
    " This create a virtual environment called 'geopandas-env'\n",
    "\n",
    "4. Activate your virtual environment\n",
    " \"conda activate geopandas-env\"\n",
    "\n",
    "5. In the conda command prompt, navigate to your folder or create a new folder using 'mkidir'\n",
    "\n",
    "6. Open VS code"
   ]
  },
  {
   "cell_type": "markdown",
   "metadata": {},
   "source": [
    "# Types of Spatial Data\n",
    "\n",
    "Spatial data, usually comes in one of two formats\n",
    "\n",
    "### - Vector Data\n",
    "Vector data represents geographic features as points, lines and polygons. For instance, points are like GPS coordinates, lines are used to represent rivers, roads or pipelines and polygons represent lakes, parcels of land, countries etc.\n",
    "\n",
    "### - Raster data\n",
    "Raster data represents geographic features as a grid of cells/pixels, with each containing a value representing information such as elevation, temperature, land cover etc...\n",
    "\n",
    "#### NOTE!!!\n",
    "Geopandas is desinged to work with vector data, but with other special packages such as rasterio, it can handle analysis of raster data."
   ]
  },
  {
   "cell_type": "markdown",
   "metadata": {},
   "source": [
    "# Plotting your First Map"
   ]
  },
  {
   "cell_type": "markdown",
   "metadata": {},
   "source": [
    "The first step in plotting your first map is reading your geographical data. Geographical data comes in many file formats, such as shapefiles (.shp), Geojson (.geojson),KML,GPKG and so much more.\n",
    "But the ones you are more likely to encounter are shapefiles and Geojson files. All these files can be quickly loaded with the 'gpd.read_file() function in geopandas.\n",
    "\n",
    "gpd.read_file() converts your input data into a geo dataframe, which is a dataframe with the geometry column, the geometry column contains all the spatial information. While this column can contain a variety of different datatypes, each entry will typically be a Point, LineString, or Polygon"
   ]
  },
  {
   "cell_type": "code",
   "execution_count": 22,
   "metadata": {},
   "outputs": [],
   "source": [
    "import pandas as pd\n",
    "import geopandas as gpd\n",
    "from shapely.geometry import Point"
   ]
  },
  {
   "cell_type": "code",
   "execution_count": 23,
   "metadata": {},
   "outputs": [
    {
     "data": {
      "text/html": [
       "<div>\n",
       "<style scoped>\n",
       "    .dataframe tbody tr th:only-of-type {\n",
       "        vertical-align: middle;\n",
       "    }\n",
       "\n",
       "    .dataframe tbody tr th {\n",
       "        vertical-align: top;\n",
       "    }\n",
       "\n",
       "    .dataframe thead th {\n",
       "        text-align: right;\n",
       "    }\n",
       "</style>\n",
       "<table border=\"1\" class=\"dataframe\">\n",
       "  <thead>\n",
       "    <tr style=\"text-align: right;\">\n",
       "      <th></th>\n",
       "      <th>id</th>\n",
       "      <th>name</th>\n",
       "      <th>geometry</th>\n",
       "    </tr>\n",
       "  </thead>\n",
       "  <tbody>\n",
       "    <tr>\n",
       "      <th>0</th>\n",
       "      <td>AC</td>\n",
       "      <td>Acre</td>\n",
       "      <td>POLYGON ((-73.33251 -7.32488, -73.27482 -7.350...</td>\n",
       "    </tr>\n",
       "    <tr>\n",
       "      <th>1</th>\n",
       "      <td>AL</td>\n",
       "      <td>Alagoas</td>\n",
       "      <td>MULTIPOLYGON (((-35.90153 -9.86181, -35.90153 ...</td>\n",
       "    </tr>\n",
       "    <tr>\n",
       "      <th>2</th>\n",
       "      <td>AP</td>\n",
       "      <td>Amapá</td>\n",
       "      <td>MULTIPOLYGON (((-50.02403 0.85986, -50.02403 0...</td>\n",
       "    </tr>\n",
       "    <tr>\n",
       "      <th>3</th>\n",
       "      <td>AM</td>\n",
       "      <td>Amazonas</td>\n",
       "      <td>MULTIPOLYGON (((-53.62548 -26.88481, -53.61900...</td>\n",
       "    </tr>\n",
       "    <tr>\n",
       "      <th>4</th>\n",
       "      <td>BA</td>\n",
       "      <td>Bahia</td>\n",
       "      <td>MULTIPOLYGON (((-38.69708 -17.97903, -38.69708...</td>\n",
       "    </tr>\n",
       "  </tbody>\n",
       "</table>\n",
       "</div>"
      ],
      "text/plain": [
       "   id      name                                           geometry\n",
       "0  AC      Acre  POLYGON ((-73.33251 -7.32488, -73.27482 -7.350...\n",
       "1  AL   Alagoas  MULTIPOLYGON (((-35.90153 -9.86181, -35.90153 ...\n",
       "2  AP     Amapá  MULTIPOLYGON (((-50.02403 0.85986, -50.02403 0...\n",
       "3  AM  Amazonas  MULTIPOLYGON (((-53.62548 -26.88481, -53.61900...\n",
       "4  BA     Bahia  MULTIPOLYGON (((-38.69708 -17.97903, -38.69708..."
      ]
     },
     "execution_count": 23,
     "metadata": {},
     "output_type": "execute_result"
    }
   ],
   "source": [
    "brazil = gpd.read_file('brazil_geo.json')\n",
    "\n",
    "brazil.head()"
   ]
  },
  {
   "cell_type": "markdown",
   "metadata": {},
   "source": [
    "To plot your first map, all you have to do is call the .plot() method, as illustrated below."
   ]
  },
  {
   "cell_type": "code",
   "execution_count": 24,
   "metadata": {},
   "outputs": [
    {
     "data": {
      "text/plain": [
       "<Axes: >"
      ]
     },
     "execution_count": 24,
     "metadata": {},
     "output_type": "execute_result"
    },
    {
     "data": {
      "image/png": "[encoded data removed]",
      "text/plain": [
       "<Figure size 640x480 with 1 Axes>"
      ]
     },
     "metadata": {},
     "output_type": "display_data"
    }
   ],
   "source": [
    "brazil.plot()"
   ]
  },
  {
   "cell_type": "markdown",
   "metadata": {},
   "source": [
    "## What do we mean by a Coordinate Reference System?"
   ]
  },
  {
   "cell_type": "markdown",
   "metadata": {},
   "source": [
    "So to explain, think of it this way...when we are creating map, like the one we just did above, the map is in 2-dimensions, YET the Earth is in 3D, and not just that, the earth is also \"round\". It is not flat. So what a coordinate reference system does is, it helps us translate 3D locations on the earth into a 2D plave, so that we can be able to map them on our 2D screens and maps.\n",
    "There are different Coordinate Reference Systems- based on the cartographer, some are local- the projects are designed to fit local geography perfectly and may not perform as precisely when applied globally etc..that is why you need to check with CRS your data is using.\n",
    "\n",
    "So why is the CRS so important? It is important because, when we are doing analysis especially with datasets from different sources, if the CRS are different our analysis will be incorrect."
   ]
  },
  {
   "cell_type": "code",
   "execution_count": 25,
   "metadata": {},
   "outputs": [
    {
     "data": {
      "text/plain": [
       "<Geographic 2D CRS: EPSG:4326>\n",
       "Name: WGS 84\n",
       "Axis Info [ellipsoidal]:\n",
       "- Lat[north]: Geodetic latitude (degree)\n",
       "- Lon[east]: Geodetic longitude (degree)\n",
       "Area of Use:\n",
       "- name: World.\n",
       "- bounds: (-180.0, -90.0, 180.0, 90.0)\n",
       "Datum: World Geodetic System 1984 ensemble\n",
       "- Ellipsoid: WGS 84\n",
       "- Prime Meridian: Greenwich"
      ]
     },
     "execution_count": 25,
     "metadata": {},
     "output_type": "execute_result"
    }
   ],
   "source": [
    "#check the crs used\n",
    "brazil.crs"
   ]
  },
  {
   "cell_type": "code",
   "execution_count": 26,
   "metadata": {},
   "outputs": [],
   "source": [
    "#you can also change your data's crs\n",
    "brazil.to_crs(epsg=5641,inplace=True)"
   ]
  },
  {
   "cell_type": "markdown",
   "metadata": {},
   "source": [
    "## Exploring Spatial Attributes of the Dataset"
   ]
  },
  {
   "cell_type": "code",
   "execution_count": 27,
   "metadata": {},
   "outputs": [
    {
     "data": {
      "text/html": [
       "<div>\n",
       "<style scoped>\n",
       "    .dataframe tbody tr th:only-of-type {\n",
       "        vertical-align: middle;\n",
       "    }\n",
       "\n",
       "    .dataframe tbody tr th {\n",
       "        vertical-align: top;\n",
       "    }\n",
       "\n",
       "    .dataframe thead th {\n",
       "        text-align: right;\n",
       "    }\n",
       "</style>\n",
       "<table border=\"1\" class=\"dataframe\">\n",
       "  <thead>\n",
       "    <tr style=\"text-align: right;\">\n",
       "      <th></th>\n",
       "      <th>id</th>\n",
       "      <th>name</th>\n",
       "      <th>geometry</th>\n",
       "      <th>Area</th>\n",
       "    </tr>\n",
       "  </thead>\n",
       "  <tbody>\n",
       "    <tr>\n",
       "      <th>0</th>\n",
       "      <td>AC</td>\n",
       "      <td>Acre</td>\n",
       "      <td>POLYGON ((1625443.497 9188303.344, 1631862.077...</td>\n",
       "      <td>1.566614e+05</td>\n",
       "    </tr>\n",
       "    <tr>\n",
       "      <th>1</th>\n",
       "      <td>AL</td>\n",
       "      <td>Alagoas</td>\n",
       "      <td>MULTIPOLYGON (((5789720.141 8904704.409, 57897...</td>\n",
       "      <td>2.849950e+04</td>\n",
       "    </tr>\n",
       "    <tr>\n",
       "      <th>2</th>\n",
       "      <td>AP</td>\n",
       "      <td>Amapá</td>\n",
       "      <td>MULTIPOLYGON (((4218561.913 10095024.701, 4218...</td>\n",
       "      <td>1.421914e+05</td>\n",
       "    </tr>\n",
       "    <tr>\n",
       "      <th>3</th>\n",
       "      <td>AM</td>\n",
       "      <td>Amazonas</td>\n",
       "      <td>MULTIPOLYGON (((3817892.257 6912098.486, 38186...</td>\n",
       "      <td>1.581721e+06</td>\n",
       "    </tr>\n",
       "    <tr>\n",
       "      <th>4</th>\n",
       "      <td>BA</td>\n",
       "      <td>Bahia</td>\n",
       "      <td>MULTIPOLYGON (((5478708.799 7979311.630, 54787...</td>\n",
       "      <td>5.907267e+05</td>\n",
       "    </tr>\n",
       "  </tbody>\n",
       "</table>\n",
       "</div>"
      ],
      "text/plain": [
       "   id      name                                           geometry  \\\n",
       "0  AC      Acre  POLYGON ((1625443.497 9188303.344, 1631862.077...   \n",
       "1  AL   Alagoas  MULTIPOLYGON (((5789720.141 8904704.409, 57897...   \n",
       "2  AP     Amapá  MULTIPOLYGON (((4218561.913 10095024.701, 4218...   \n",
       "3  AM  Amazonas  MULTIPOLYGON (((3817892.257 6912098.486, 38186...   \n",
       "4  BA     Bahia  MULTIPOLYGON (((5478708.799 7979311.630, 54787...   \n",
       "\n",
       "           Area  \n",
       "0  1.566614e+05  \n",
       "1  2.849950e+04  \n",
       "2  1.421914e+05  \n",
       "3  1.581721e+06  \n",
       "4  5.907267e+05  "
      ]
     },
     "execution_count": 27,
     "metadata": {},
     "output_type": "execute_result"
    }
   ],
   "source": [
    "#calculating area- returns the area of the geometry\n",
    "brazil['Area']=brazil.area/1000000\n",
    "brazil.head()"
   ]
  },
  {
   "cell_type": "code",
   "execution_count": 28,
   "metadata": {},
   "outputs": [
    {
     "data": {
      "text/html": [
       "<div>\n",
       "<style scoped>\n",
       "    .dataframe tbody tr th:only-of-type {\n",
       "        vertical-align: middle;\n",
       "    }\n",
       "\n",
       "    .dataframe tbody tr th {\n",
       "        vertical-align: top;\n",
       "    }\n",
       "\n",
       "    .dataframe thead th {\n",
       "        text-align: right;\n",
       "    }\n",
       "</style>\n",
       "<table border=\"1\" class=\"dataframe\">\n",
       "  <thead>\n",
       "    <tr style=\"text-align: right;\">\n",
       "      <th></th>\n",
       "      <th>id</th>\n",
       "      <th>name</th>\n",
       "      <th>geometry</th>\n",
       "      <th>Area</th>\n",
       "      <th>Centre</th>\n",
       "    </tr>\n",
       "  </thead>\n",
       "  <tbody>\n",
       "    <tr>\n",
       "      <th>0</th>\n",
       "      <td>AC</td>\n",
       "      <td>Acre</td>\n",
       "      <td>POLYGON ((1625443.497 9188303.344, 1631862.077...</td>\n",
       "      <td>1.566614e+05</td>\n",
       "      <td>POINT (1946840.308 8966181.737)</td>\n",
       "    </tr>\n",
       "    <tr>\n",
       "      <th>1</th>\n",
       "      <td>AL</td>\n",
       "      <td>Alagoas</td>\n",
       "      <td>MULTIPOLYGON (((5789720.141 8904704.409, 57897...</td>\n",
       "      <td>2.849950e+04</td>\n",
       "      <td>POINT (5709428.646 8943467.356)</td>\n",
       "    </tr>\n",
       "    <tr>\n",
       "      <th>2</th>\n",
       "      <td>AP</td>\n",
       "      <td>Amapá</td>\n",
       "      <td>MULTIPOLYGON (((4218561.913 10095024.701, 4218...</td>\n",
       "      <td>1.421914e+05</td>\n",
       "      <td>POINT (4003069.531 10159251.372)</td>\n",
       "    </tr>\n",
       "    <tr>\n",
       "      <th>3</th>\n",
       "      <td>AM</td>\n",
       "      <td>Amazonas</td>\n",
       "      <td>MULTIPOLYGON (((3817892.257 6912098.486, 38186...</td>\n",
       "      <td>1.581721e+06</td>\n",
       "      <td>POINT (2586424.782 9534443.527)</td>\n",
       "    </tr>\n",
       "    <tr>\n",
       "      <th>4</th>\n",
       "      <td>BA</td>\n",
       "      <td>Bahia</td>\n",
       "      <td>MULTIPOLYGON (((5478708.799 7979311.630, 54787...</td>\n",
       "      <td>5.907267e+05</td>\n",
       "      <td>POINT (5141359.419 8607709.247)</td>\n",
       "    </tr>\n",
       "  </tbody>\n",
       "</table>\n",
       "</div>"
      ],
      "text/plain": [
       "   id      name                                           geometry  \\\n",
       "0  AC      Acre  POLYGON ((1625443.497 9188303.344, 1631862.077...   \n",
       "1  AL   Alagoas  MULTIPOLYGON (((5789720.141 8904704.409, 57897...   \n",
       "2  AP     Amapá  MULTIPOLYGON (((4218561.913 10095024.701, 4218...   \n",
       "3  AM  Amazonas  MULTIPOLYGON (((3817892.257 6912098.486, 38186...   \n",
       "4  BA     Bahia  MULTIPOLYGON (((5478708.799 7979311.630, 54787...   \n",
       "\n",
       "           Area                            Centre  \n",
       "0  1.566614e+05   POINT (1946840.308 8966181.737)  \n",
       "1  2.849950e+04   POINT (5709428.646 8943467.356)  \n",
       "2  1.421914e+05  POINT (4003069.531 10159251.372)  \n",
       "3  1.581721e+06   POINT (2586424.782 9534443.527)  \n",
       "4  5.907267e+05   POINT (5141359.419 8607709.247)  "
      ]
     },
     "execution_count": 28,
     "metadata": {},
     "output_type": "execute_result"
    }
   ],
   "source": [
    "#calculating the centroid-returns the centre point of the geometry\n",
    "brazil['Centre']=brazil.centroid\n",
    "brazil.head()"
   ]
  },
  {
   "cell_type": "code",
   "execution_count": 29,
   "metadata": {},
   "outputs": [
    {
     "data": {
      "text/html": [
       "<div>\n",
       "<style scoped>\n",
       "    .dataframe tbody tr th:only-of-type {\n",
       "        vertical-align: middle;\n",
       "    }\n",
       "\n",
       "    .dataframe tbody tr th {\n",
       "        vertical-align: top;\n",
       "    }\n",
       "\n",
       "    .dataframe thead th {\n",
       "        text-align: right;\n",
       "    }\n",
       "</style>\n",
       "<table border=\"1\" class=\"dataframe\">\n",
       "  <thead>\n",
       "    <tr style=\"text-align: right;\">\n",
       "      <th></th>\n",
       "      <th>id</th>\n",
       "      <th>name</th>\n",
       "      <th>geometry</th>\n",
       "      <th>Area</th>\n",
       "      <th>Centre</th>\n",
       "      <th>Boundary</th>\n",
       "    </tr>\n",
       "  </thead>\n",
       "  <tbody>\n",
       "    <tr>\n",
       "      <th>0</th>\n",
       "      <td>AC</td>\n",
       "      <td>Acre</td>\n",
       "      <td>POLYGON ((1625443.497 9188303.344, 1631862.077...</td>\n",
       "      <td>1.566614e+05</td>\n",
       "      <td>POINT (1946840.308 8966181.737)</td>\n",
       "      <td>LINESTRING (1625443.497 9188303.344, 1631862.0...</td>\n",
       "    </tr>\n",
       "    <tr>\n",
       "      <th>1</th>\n",
       "      <td>AL</td>\n",
       "      <td>Alagoas</td>\n",
       "      <td>MULTIPOLYGON (((5789720.141 8904704.409, 57897...</td>\n",
       "      <td>2.849950e+04</td>\n",
       "      <td>POINT (5709428.646 8943467.356)</td>\n",
       "      <td>MULTILINESTRING ((5789720.141 8904704.409, 578...</td>\n",
       "    </tr>\n",
       "    <tr>\n",
       "      <th>2</th>\n",
       "      <td>AP</td>\n",
       "      <td>Amapá</td>\n",
       "      <td>MULTIPOLYGON (((4218561.913 10095024.701, 4218...</td>\n",
       "      <td>1.421914e+05</td>\n",
       "      <td>POINT (4003069.531 10159251.372)</td>\n",
       "      <td>MULTILINESTRING ((4218561.913 10095024.701, 42...</td>\n",
       "    </tr>\n",
       "    <tr>\n",
       "      <th>3</th>\n",
       "      <td>AM</td>\n",
       "      <td>Amazonas</td>\n",
       "      <td>MULTIPOLYGON (((3817892.257 6912098.486, 38186...</td>\n",
       "      <td>1.581721e+06</td>\n",
       "      <td>POINT (2586424.782 9534443.527)</td>\n",
       "      <td>MULTILINESTRING ((3817892.257 6912098.486, 381...</td>\n",
       "    </tr>\n",
       "    <tr>\n",
       "      <th>4</th>\n",
       "      <td>BA</td>\n",
       "      <td>Bahia</td>\n",
       "      <td>MULTIPOLYGON (((5478708.799 7979311.630, 54787...</td>\n",
       "      <td>5.907267e+05</td>\n",
       "      <td>POINT (5141359.419 8607709.247)</td>\n",
       "      <td>MULTILINESTRING ((5478708.799 7979311.630, 547...</td>\n",
       "    </tr>\n",
       "  </tbody>\n",
       "</table>\n",
       "</div>"
      ],
      "text/plain": [
       "   id      name                                           geometry  \\\n",
       "0  AC      Acre  POLYGON ((1625443.497 9188303.344, 1631862.077...   \n",
       "1  AL   Alagoas  MULTIPOLYGON (((5789720.141 8904704.409, 57897...   \n",
       "2  AP     Amapá  MULTIPOLYGON (((4218561.913 10095024.701, 4218...   \n",
       "3  AM  Amazonas  MULTIPOLYGON (((3817892.257 6912098.486, 38186...   \n",
       "4  BA     Bahia  MULTIPOLYGON (((5478708.799 7979311.630, 54787...   \n",
       "\n",
       "           Area                            Centre  \\\n",
       "0  1.566614e+05   POINT (1946840.308 8966181.737)   \n",
       "1  2.849950e+04   POINT (5709428.646 8943467.356)   \n",
       "2  1.421914e+05  POINT (4003069.531 10159251.372)   \n",
       "3  1.581721e+06   POINT (2586424.782 9534443.527)   \n",
       "4  5.907267e+05   POINT (5141359.419 8607709.247)   \n",
       "\n",
       "                                            Boundary  \n",
       "0  LINESTRING (1625443.497 9188303.344, 1631862.0...  \n",
       "1  MULTILINESTRING ((5789720.141 8904704.409, 578...  \n",
       "2  MULTILINESTRING ((4218561.913 10095024.701, 42...  \n",
       "3  MULTILINESTRING ((3817892.257 6912098.486, 381...  \n",
       "4  MULTILINESTRING ((5478708.799 7979311.630, 547...  "
      ]
     },
     "execution_count": 29,
     "metadata": {},
     "output_type": "execute_result"
    }
   ],
   "source": [
    "#extracting boundaries from geometry- the boundary method just gives you the outline of the polygon\n",
    "brazil['Boundary']=brazil.boundary\n",
    "brazil.head()"
   ]
  },
  {
   "cell_type": "markdown",
   "metadata": {},
   "source": [
    "Calculating distances is one of most common operations you will do on a geodataframe. For example, we have a dataset with the districts in Brazil, we can calculate how far each district is from the famous Christ the Redeemer statue in Rio Ja Deniro. First, we find the coordinates of the Christ the Redeemer using geocoding and calculate the distances using the distance() method."
   ]
  },
  {
   "cell_type": "markdown",
   "metadata": {},
   "source": [
    "#### Geocoding\n",
    "\n",
    "Geo-coding is the process of converting a place/address into its geographic coordinates.We will use geopy for all our geocoding needs.\n",
    "Open your terminal and install geopy... run 'pip install geopy'\n"
   ]
  },
  {
   "cell_type": "code",
   "execution_count": 30,
   "metadata": {},
   "outputs": [],
   "source": [
    "#geocoding\n",
    "from geopy.geocoders import Nominatim"
   ]
  },
  {
   "cell_type": "code",
   "execution_count": 31,
   "metadata": {},
   "outputs": [
    {
     "name": "stdout",
     "output_type": "stream",
     "text": [
      "22 57m 6.90228s S, 43 12m 37.6506s W\n",
      "Cristo Redentor, Estrada do Corcovado, Santa Teresa, Rio de Janeiro, Região Geográfica Imediata do Rio de Janeiro, Região Metropolitana do Rio de Janeiro, Região Geográfica Intermediária do Rio de Janeiro, Rio de Janeiro, Região Sudeste, 22470-180, Brasil\n"
     ]
    }
   ],
   "source": [
    "geolocator = Nominatim(user_agent=\"wamz\")\n",
    "location = geolocator.geocode(\"Christ the Redeemer\")\n",
    "\n",
    "print(location.point)\n",
    "print(location.address)"
   ]
  },
  {
   "cell_type": "code",
   "execution_count": 32,
   "metadata": {},
   "outputs": [],
   "source": [
    "lat,long=location.latitude,location.longitude\n",
    "point=Point(long,lat)\n",
    "christ_redeemer=gpd.GeoSeries([point],crs='EPSG:4326')\n",
    "christ_redeemer=christ_redeemer.to_crs('EPSG:5641')"
   ]
  },
  {
   "cell_type": "code",
   "execution_count": 33,
   "metadata": {},
   "outputs": [
    {
     "data": {
      "text/plain": [
       "0    POINT (4976586.043 7392030.125)\n",
       "dtype: geometry"
      ]
     },
     "execution_count": 33,
     "metadata": {},
     "output_type": "execute_result"
    }
   ],
   "source": [
    "christ_redeemer"
   ]
  },
  {
   "cell_type": "code",
   "execution_count": 34,
   "metadata": {},
   "outputs": [],
   "source": [
    "brazil['Distance_to_Christ_Redeemer']=brazil.centroid.distance(christ_redeemer[0])/1000"
   ]
  },
  {
   "cell_type": "markdown",
   "metadata": {},
   "source": [
    "## Spatial Joins\n",
    "\n",
    "A spatial join, links the rows of one geodataframe with the rows of another, based on their geometric relationship.For example, is one geometry inside another, do they share a boundary, do they intersect?\n",
    "Unlike the typical join we know in pandas, which is based on a column- spatial joins use spatial logic."
   ]
  },
  {
   "cell_type": "code",
   "execution_count": 35,
   "metadata": {},
   "outputs": [],
   "source": [
    "kenya=gpd.read_file(r'C:\\Users\\Pula Advisors\\Desktop\\GeoPandas_Project\\kenya_shapefiles\\ken_adm_iebc_20191031_shp (2)\\ken_admbnda_adm1_iebc_20191031.shp')"
   ]
  },
  {
   "cell_type": "code",
   "execution_count": 36,
   "metadata": {},
   "outputs": [
    {
     "data": {
      "text/plain": [
       "<Axes: >"
      ]
     },
     "execution_count": 36,
     "metadata": {},
     "output_type": "execute_result"
    },
    {
     "data": {
      "image/png": "[encoded data removed]",
      "text/plain": [
       "<Figure size 640x480 with 1 Axes>"
      ]
     },
     "metadata": {},
     "output_type": "display_data"
    }
   ],
   "source": [
    "kenya.plot()"
   ]
  },
  {
   "cell_type": "code",
   "execution_count": 37,
   "metadata": {},
   "outputs": [],
   "source": [
    "places=gpd.read_file(r\"C:\\Users\\Pula Advisors\\Desktop\\GeoPandas_Project\\shapefiles\\gis_osm_pois_free_1.shp\")"
   ]
  },
  {
   "cell_type": "code",
   "execution_count": 38,
   "metadata": {},
   "outputs": [
    {
     "data": {
      "text/html": [
       "<div>\n",
       "<style scoped>\n",
       "    .dataframe tbody tr th:only-of-type {\n",
       "        vertical-align: middle;\n",
       "    }\n",
       "\n",
       "    .dataframe tbody tr th {\n",
       "        vertical-align: top;\n",
       "    }\n",
       "\n",
       "    .dataframe thead th {\n",
       "        text-align: right;\n",
       "    }\n",
       "</style>\n",
       "<table border=\"1\" class=\"dataframe\">\n",
       "  <thead>\n",
       "    <tr style=\"text-align: right;\">\n",
       "      <th></th>\n",
       "      <th>osm_id</th>\n",
       "      <th>code</th>\n",
       "      <th>fclass</th>\n",
       "      <th>name</th>\n",
       "      <th>geometry</th>\n",
       "    </tr>\n",
       "  </thead>\n",
       "  <tbody>\n",
       "    <tr>\n",
       "      <th>0</th>\n",
       "      <td>30030203</td>\n",
       "      <td>2401</td>\n",
       "      <td>hotel</td>\n",
       "      <td>Muthu Silver Springs Hotel</td>\n",
       "      <td>POINT (36.80292 -1.29487)</td>\n",
       "    </tr>\n",
       "    <tr>\n",
       "      <th>1</th>\n",
       "      <td>30088423</td>\n",
       "      <td>2301</td>\n",
       "      <td>restaurant</td>\n",
       "      <td>China Plate</td>\n",
       "      <td>POINT (36.80624 -1.29236)</td>\n",
       "    </tr>\n",
       "    <tr>\n",
       "      <th>2</th>\n",
       "      <td>30088453</td>\n",
       "      <td>2001</td>\n",
       "      <td>police</td>\n",
       "      <td>Karen Police Station</td>\n",
       "      <td>POINT (36.70606 -1.32177)</td>\n",
       "    </tr>\n",
       "    <tr>\n",
       "      <th>3</th>\n",
       "      <td>30092040</td>\n",
       "      <td>2501</td>\n",
       "      <td>supermarket</td>\n",
       "      <td>Carrefour</td>\n",
       "      <td>POINT (36.76304 -1.29825)</td>\n",
       "    </tr>\n",
       "    <tr>\n",
       "      <th>4</th>\n",
       "      <td>30092128</td>\n",
       "      <td>2301</td>\n",
       "      <td>restaurant</td>\n",
       "      <td>Nairobi Bread Company</td>\n",
       "      <td>POINT (36.71254 -1.32893)</td>\n",
       "    </tr>\n",
       "  </tbody>\n",
       "</table>\n",
       "</div>"
      ],
      "text/plain": [
       "     osm_id  code       fclass                        name  \\\n",
       "0  30030203  2401        hotel  Muthu Silver Springs Hotel   \n",
       "1  30088423  2301   restaurant                 China Plate   \n",
       "2  30088453  2001       police        Karen Police Station   \n",
       "3  30092040  2501  supermarket                   Carrefour   \n",
       "4  30092128  2301   restaurant       Nairobi Bread Company   \n",
       "\n",
       "                    geometry  \n",
       "0  POINT (36.80292 -1.29487)  \n",
       "1  POINT (36.80624 -1.29236)  \n",
       "2  POINT (36.70606 -1.32177)  \n",
       "3  POINT (36.76304 -1.29825)  \n",
       "4  POINT (36.71254 -1.32893)  "
      ]
     },
     "execution_count": 38,
     "metadata": {},
     "output_type": "execute_result"
    }
   ],
   "source": [
    "places.head()"
   ]
  },
  {
   "cell_type": "code",
   "execution_count": 39,
   "metadata": {},
   "outputs": [
    {
     "data": {
      "text/html": [
       "<div>\n",
       "<style scoped>\n",
       "    .dataframe tbody tr th:only-of-type {\n",
       "        vertical-align: middle;\n",
       "    }\n",
       "\n",
       "    .dataframe tbody tr th {\n",
       "        vertical-align: top;\n",
       "    }\n",
       "\n",
       "    .dataframe thead th {\n",
       "        text-align: right;\n",
       "    }\n",
       "</style>\n",
       "<table border=\"1\" class=\"dataframe\">\n",
       "  <thead>\n",
       "    <tr style=\"text-align: right;\">\n",
       "      <th></th>\n",
       "      <th>osm_id</th>\n",
       "      <th>code</th>\n",
       "      <th>fclass</th>\n",
       "      <th>name</th>\n",
       "      <th>geometry</th>\n",
       "    </tr>\n",
       "  </thead>\n",
       "  <tbody>\n",
       "    <tr>\n",
       "      <th>5</th>\n",
       "      <td>30092225</td>\n",
       "      <td>2082</td>\n",
       "      <td>school</td>\n",
       "      <td>Kinderworld International School</td>\n",
       "      <td>POINT (36.82355 -1.31379)</td>\n",
       "    </tr>\n",
       "    <tr>\n",
       "      <th>7</th>\n",
       "      <td>30092294</td>\n",
       "      <td>2082</td>\n",
       "      <td>school</td>\n",
       "      <td>Nairobi Academy Secondary</td>\n",
       "      <td>POINT (36.75327 -1.34018)</td>\n",
       "    </tr>\n",
       "    <tr>\n",
       "      <th>21</th>\n",
       "      <td>30312225</td>\n",
       "      <td>2082</td>\n",
       "      <td>school</td>\n",
       "      <td>Consolata School</td>\n",
       "      <td>POINT (36.80406 -1.26749)</td>\n",
       "    </tr>\n",
       "    <tr>\n",
       "      <th>32</th>\n",
       "      <td>30402763</td>\n",
       "      <td>2082</td>\n",
       "      <td>school</td>\n",
       "      <td>Aga Khan Nursery</td>\n",
       "      <td>POINT (36.81492 -1.27217)</td>\n",
       "    </tr>\n",
       "    <tr>\n",
       "      <th>74</th>\n",
       "      <td>295848487</td>\n",
       "      <td>2082</td>\n",
       "      <td>school</td>\n",
       "      <td>Pangani Girls Secondary School</td>\n",
       "      <td>POINT (36.83739 -1.26894)</td>\n",
       "    </tr>\n",
       "  </tbody>\n",
       "</table>\n",
       "</div>"
      ],
      "text/plain": [
       "       osm_id  code  fclass                              name  \\\n",
       "5    30092225  2082  school  Kinderworld International School   \n",
       "7    30092294  2082  school         Nairobi Academy Secondary   \n",
       "21   30312225  2082  school                  Consolata School   \n",
       "32   30402763  2082  school                  Aga Khan Nursery   \n",
       "74  295848487  2082  school    Pangani Girls Secondary School   \n",
       "\n",
       "                     geometry  \n",
       "5   POINT (36.82355 -1.31379)  \n",
       "7   POINT (36.75327 -1.34018)  \n",
       "21  POINT (36.80406 -1.26749)  \n",
       "32  POINT (36.81492 -1.27217)  \n",
       "74  POINT (36.83739 -1.26894)  "
      ]
     },
     "execution_count": 39,
     "metadata": {},
     "output_type": "execute_result"
    }
   ],
   "source": [
    "schools=places.loc[places['fclass']=='school']\n",
    "schools.head()"
   ]
  },
  {
   "cell_type": "code",
   "execution_count": 40,
   "metadata": {},
   "outputs": [
    {
     "name": "stdout",
     "output_type": "stream",
     "text": [
      "EPSG:4326\n",
      "EPSG:4326\n"
     ]
    }
   ],
   "source": [
    "print(schools.crs)\n",
    "print(kenya.crs)"
   ]
  },
  {
   "cell_type": "code",
   "execution_count": 41,
   "metadata": {},
   "outputs": [
    {
     "data": {
      "text/html": [
       "<div>\n",
       "<style scoped>\n",
       "    .dataframe tbody tr th:only-of-type {\n",
       "        vertical-align: middle;\n",
       "    }\n",
       "\n",
       "    .dataframe tbody tr th {\n",
       "        vertical-align: top;\n",
       "    }\n",
       "\n",
       "    .dataframe thead th {\n",
       "        text-align: right;\n",
       "    }\n",
       "</style>\n",
       "<table border=\"1\" class=\"dataframe\">\n",
       "  <thead>\n",
       "    <tr style=\"text-align: right;\">\n",
       "      <th></th>\n",
       "      <th>osm_id</th>\n",
       "      <th>code</th>\n",
       "      <th>fclass</th>\n",
       "      <th>name</th>\n",
       "      <th>geometry</th>\n",
       "      <th>index_right</th>\n",
       "      <th>Shape_Leng</th>\n",
       "      <th>Shape_Area</th>\n",
       "      <th>ADM1_EN</th>\n",
       "      <th>ADM1_PCODE</th>\n",
       "      <th>ADM1_REF</th>\n",
       "      <th>ADM1ALT1EN</th>\n",
       "      <th>ADM1ALT2EN</th>\n",
       "      <th>ADM0_EN</th>\n",
       "      <th>ADM0_PCODE</th>\n",
       "      <th>date</th>\n",
       "      <th>validOn</th>\n",
       "      <th>validTo</th>\n",
       "    </tr>\n",
       "  </thead>\n",
       "  <tbody>\n",
       "    <tr>\n",
       "      <th>5</th>\n",
       "      <td>30092225</td>\n",
       "      <td>2082</td>\n",
       "      <td>school</td>\n",
       "      <td>Kinderworld International School</td>\n",
       "      <td>POINT (36.82355 -1.31379)</td>\n",
       "      <td>29.0</td>\n",
       "      <td>1.658061</td>\n",
       "      <td>0.057496</td>\n",
       "      <td>Nairobi</td>\n",
       "      <td>KE047</td>\n",
       "      <td>None</td>\n",
       "      <td>None</td>\n",
       "      <td>None</td>\n",
       "      <td>Kenya</td>\n",
       "      <td>KE</td>\n",
       "      <td>2017-11-03</td>\n",
       "      <td>2019-10-31</td>\n",
       "      <td>None</td>\n",
       "    </tr>\n",
       "    <tr>\n",
       "      <th>7</th>\n",
       "      <td>30092294</td>\n",
       "      <td>2082</td>\n",
       "      <td>school</td>\n",
       "      <td>Nairobi Academy Secondary</td>\n",
       "      <td>POINT (36.75327 -1.34018)</td>\n",
       "      <td>29.0</td>\n",
       "      <td>1.658061</td>\n",
       "      <td>0.057496</td>\n",
       "      <td>Nairobi</td>\n",
       "      <td>KE047</td>\n",
       "      <td>None</td>\n",
       "      <td>None</td>\n",
       "      <td>None</td>\n",
       "      <td>Kenya</td>\n",
       "      <td>KE</td>\n",
       "      <td>2017-11-03</td>\n",
       "      <td>2019-10-31</td>\n",
       "      <td>None</td>\n",
       "    </tr>\n",
       "    <tr>\n",
       "      <th>21</th>\n",
       "      <td>30312225</td>\n",
       "      <td>2082</td>\n",
       "      <td>school</td>\n",
       "      <td>Consolata School</td>\n",
       "      <td>POINT (36.80406 -1.26749)</td>\n",
       "      <td>29.0</td>\n",
       "      <td>1.658061</td>\n",
       "      <td>0.057496</td>\n",
       "      <td>Nairobi</td>\n",
       "      <td>KE047</td>\n",
       "      <td>None</td>\n",
       "      <td>None</td>\n",
       "      <td>None</td>\n",
       "      <td>Kenya</td>\n",
       "      <td>KE</td>\n",
       "      <td>2017-11-03</td>\n",
       "      <td>2019-10-31</td>\n",
       "      <td>None</td>\n",
       "    </tr>\n",
       "    <tr>\n",
       "      <th>32</th>\n",
       "      <td>30402763</td>\n",
       "      <td>2082</td>\n",
       "      <td>school</td>\n",
       "      <td>Aga Khan Nursery</td>\n",
       "      <td>POINT (36.81492 -1.27217)</td>\n",
       "      <td>29.0</td>\n",
       "      <td>1.658061</td>\n",
       "      <td>0.057496</td>\n",
       "      <td>Nairobi</td>\n",
       "      <td>KE047</td>\n",
       "      <td>None</td>\n",
       "      <td>None</td>\n",
       "      <td>None</td>\n",
       "      <td>Kenya</td>\n",
       "      <td>KE</td>\n",
       "      <td>2017-11-03</td>\n",
       "      <td>2019-10-31</td>\n",
       "      <td>None</td>\n",
       "    </tr>\n",
       "    <tr>\n",
       "      <th>74</th>\n",
       "      <td>295848487</td>\n",
       "      <td>2082</td>\n",
       "      <td>school</td>\n",
       "      <td>Pangani Girls Secondary School</td>\n",
       "      <td>POINT (36.83739 -1.26894)</td>\n",
       "      <td>29.0</td>\n",
       "      <td>1.658061</td>\n",
       "      <td>0.057496</td>\n",
       "      <td>Nairobi</td>\n",
       "      <td>KE047</td>\n",
       "      <td>None</td>\n",
       "      <td>None</td>\n",
       "      <td>None</td>\n",
       "      <td>Kenya</td>\n",
       "      <td>KE</td>\n",
       "      <td>2017-11-03</td>\n",
       "      <td>2019-10-31</td>\n",
       "      <td>None</td>\n",
       "    </tr>\n",
       "  </tbody>\n",
       "</table>\n",
       "</div>"
      ],
      "text/plain": [
       "       osm_id  code  fclass                              name  \\\n",
       "5    30092225  2082  school  Kinderworld International School   \n",
       "7    30092294  2082  school         Nairobi Academy Secondary   \n",
       "21   30312225  2082  school                  Consolata School   \n",
       "32   30402763  2082  school                  Aga Khan Nursery   \n",
       "74  295848487  2082  school    Pangani Girls Secondary School   \n",
       "\n",
       "                     geometry  index_right  Shape_Leng  Shape_Area  ADM1_EN  \\\n",
       "5   POINT (36.82355 -1.31379)         29.0    1.658061    0.057496  Nairobi   \n",
       "7   POINT (36.75327 -1.34018)         29.0    1.658061    0.057496  Nairobi   \n",
       "21  POINT (36.80406 -1.26749)         29.0    1.658061    0.057496  Nairobi   \n",
       "32  POINT (36.81492 -1.27217)         29.0    1.658061    0.057496  Nairobi   \n",
       "74  POINT (36.83739 -1.26894)         29.0    1.658061    0.057496  Nairobi   \n",
       "\n",
       "   ADM1_PCODE ADM1_REF ADM1ALT1EN ADM1ALT2EN ADM0_EN ADM0_PCODE        date  \\\n",
       "5       KE047     None       None       None   Kenya         KE  2017-11-03   \n",
       "7       KE047     None       None       None   Kenya         KE  2017-11-03   \n",
       "21      KE047     None       None       None   Kenya         KE  2017-11-03   \n",
       "32      KE047     None       None       None   Kenya         KE  2017-11-03   \n",
       "74      KE047     None       None       None   Kenya         KE  2017-11-03   \n",
       "\n",
       "       validOn validTo  \n",
       "5   2019-10-31    None  \n",
       "7   2019-10-31    None  \n",
       "21  2019-10-31    None  \n",
       "32  2019-10-31    None  \n",
       "74  2019-10-31    None  "
      ]
     },
     "execution_count": 41,
     "metadata": {},
     "output_type": "execute_result"
    }
   ],
   "source": [
    "#assign each school to its county using a spatial join\n",
    "schools_per_county = gpd.sjoin(schools, kenya, how='left', predicate='within')\n",
    "schools_per_county.head()"
   ]
  },
  {
   "cell_type": "code",
   "execution_count": 42,
   "metadata": {},
   "outputs": [
    {
     "data": {
      "text/html": [
       "<div>\n",
       "<style scoped>\n",
       "    .dataframe tbody tr th:only-of-type {\n",
       "        vertical-align: middle;\n",
       "    }\n",
       "\n",
       "    .dataframe tbody tr th {\n",
       "        vertical-align: top;\n",
       "    }\n",
       "\n",
       "    .dataframe thead th {\n",
       "        text-align: right;\n",
       "    }\n",
       "</style>\n",
       "<table border=\"1\" class=\"dataframe\">\n",
       "  <thead>\n",
       "    <tr style=\"text-align: right;\">\n",
       "      <th></th>\n",
       "      <th>ADM1_EN</th>\n",
       "      <th>num_schools</th>\n",
       "    </tr>\n",
       "  </thead>\n",
       "  <tbody>\n",
       "    <tr>\n",
       "      <th>0</th>\n",
       "      <td>Baringo</td>\n",
       "      <td>297</td>\n",
       "    </tr>\n",
       "    <tr>\n",
       "      <th>1</th>\n",
       "      <td>Bomet</td>\n",
       "      <td>2</td>\n",
       "    </tr>\n",
       "    <tr>\n",
       "      <th>2</th>\n",
       "      <td>Bungoma</td>\n",
       "      <td>158</td>\n",
       "    </tr>\n",
       "    <tr>\n",
       "      <th>3</th>\n",
       "      <td>Busia</td>\n",
       "      <td>69</td>\n",
       "    </tr>\n",
       "    <tr>\n",
       "      <th>4</th>\n",
       "      <td>Elgeyo-Marakwet</td>\n",
       "      <td>5</td>\n",
       "    </tr>\n",
       "  </tbody>\n",
       "</table>\n",
       "</div>"
      ],
      "text/plain": [
       "           ADM1_EN  num_schools\n",
       "0          Baringo          297\n",
       "1            Bomet            2\n",
       "2          Bungoma          158\n",
       "3            Busia           69\n",
       "4  Elgeyo-Marakwet            5"
      ]
     },
     "execution_count": 42,
     "metadata": {},
     "output_type": "execute_result"
    }
   ],
   "source": [
    "#we want to plot the distribution of schools per county, so we count the no. of schools per county\n",
    "school_counts = schools_per_county.groupby('ADM1_EN').size().reset_index(name='num_schools')\n",
    "school_counts.head()"
   ]
  },
  {
   "cell_type": "code",
   "execution_count": 43,
   "metadata": {},
   "outputs": [
    {
     "data": {
      "text/html": [
       "<div>\n",
       "<style scoped>\n",
       "    .dataframe tbody tr th:only-of-type {\n",
       "        vertical-align: middle;\n",
       "    }\n",
       "\n",
       "    .dataframe tbody tr th {\n",
       "        vertical-align: top;\n",
       "    }\n",
       "\n",
       "    .dataframe thead th {\n",
       "        text-align: right;\n",
       "    }\n",
       "</style>\n",
       "<table border=\"1\" class=\"dataframe\">\n",
       "  <thead>\n",
       "    <tr style=\"text-align: right;\">\n",
       "      <th></th>\n",
       "      <th>Shape_Leng</th>\n",
       "      <th>Shape_Area</th>\n",
       "      <th>ADM1_EN</th>\n",
       "      <th>ADM1_PCODE</th>\n",
       "      <th>ADM1_REF</th>\n",
       "      <th>ADM1ALT1EN</th>\n",
       "      <th>ADM1ALT2EN</th>\n",
       "      <th>ADM0_EN</th>\n",
       "      <th>ADM0_PCODE</th>\n",
       "      <th>date</th>\n",
       "      <th>validOn</th>\n",
       "      <th>validTo</th>\n",
       "      <th>geometry</th>\n",
       "      <th>num_schools</th>\n",
       "    </tr>\n",
       "  </thead>\n",
       "  <tbody>\n",
       "    <tr>\n",
       "      <th>0</th>\n",
       "      <td>5.932315</td>\n",
       "      <td>0.884732</td>\n",
       "      <td>Baringo</td>\n",
       "      <td>KE030</td>\n",
       "      <td>None</td>\n",
       "      <td>None</td>\n",
       "      <td>None</td>\n",
       "      <td>Kenya</td>\n",
       "      <td>KE</td>\n",
       "      <td>2017-11-03</td>\n",
       "      <td>2019-10-31</td>\n",
       "      <td>None</td>\n",
       "      <td>POLYGON ((35.78390 1.65557, 35.78496 1.65554, ...</td>\n",
       "      <td>297.0</td>\n",
       "    </tr>\n",
       "    <tr>\n",
       "      <th>1</th>\n",
       "      <td>2.922220</td>\n",
       "      <td>0.198099</td>\n",
       "      <td>Bomet</td>\n",
       "      <td>KE036</td>\n",
       "      <td>None</td>\n",
       "      <td>None</td>\n",
       "      <td>None</td>\n",
       "      <td>Kenya</td>\n",
       "      <td>KE</td>\n",
       "      <td>2017-11-03</td>\n",
       "      <td>2019-10-31</td>\n",
       "      <td>None</td>\n",
       "      <td>POLYGON ((35.47360 -0.39920, 35.47845 -0.40663...</td>\n",
       "      <td>2.0</td>\n",
       "    </tr>\n",
       "    <tr>\n",
       "      <th>2</th>\n",
       "      <td>3.062486</td>\n",
       "      <td>0.245058</td>\n",
       "      <td>Bungoma</td>\n",
       "      <td>KE039</td>\n",
       "      <td>None</td>\n",
       "      <td>None</td>\n",
       "      <td>None</td>\n",
       "      <td>Kenya</td>\n",
       "      <td>KE</td>\n",
       "      <td>2017-11-03</td>\n",
       "      <td>2019-10-31</td>\n",
       "      <td>None</td>\n",
       "      <td>POLYGON ((34.62017 1.10228, 34.62133 1.10160, ...</td>\n",
       "      <td>158.0</td>\n",
       "    </tr>\n",
       "    <tr>\n",
       "      <th>3</th>\n",
       "      <td>2.670396</td>\n",
       "      <td>0.147178</td>\n",
       "      <td>Busia</td>\n",
       "      <td>KE040</td>\n",
       "      <td>None</td>\n",
       "      <td>None</td>\n",
       "      <td>None</td>\n",
       "      <td>Kenya</td>\n",
       "      <td>KE</td>\n",
       "      <td>2017-11-03</td>\n",
       "      <td>2019-10-31</td>\n",
       "      <td>None</td>\n",
       "      <td>POLYGON ((34.36097 0.77730, 34.36172 0.77696, ...</td>\n",
       "      <td>69.0</td>\n",
       "    </tr>\n",
       "    <tr>\n",
       "      <th>4</th>\n",
       "      <td>3.888933</td>\n",
       "      <td>0.244432</td>\n",
       "      <td>Elgeyo-Marakwet</td>\n",
       "      <td>KE028</td>\n",
       "      <td>None</td>\n",
       "      <td>None</td>\n",
       "      <td>None</td>\n",
       "      <td>Kenya</td>\n",
       "      <td>KE</td>\n",
       "      <td>2017-11-03</td>\n",
       "      <td>2019-10-31</td>\n",
       "      <td>None</td>\n",
       "      <td>POLYGON ((35.69818 1.28225, 35.69788 1.27905, ...</td>\n",
       "      <td>5.0</td>\n",
       "    </tr>\n",
       "  </tbody>\n",
       "</table>\n",
       "</div>"
      ],
      "text/plain": [
       "   Shape_Leng  Shape_Area          ADM1_EN ADM1_PCODE ADM1_REF ADM1ALT1EN  \\\n",
       "0    5.932315    0.884732          Baringo      KE030     None       None   \n",
       "1    2.922220    0.198099            Bomet      KE036     None       None   \n",
       "2    3.062486    0.245058          Bungoma      KE039     None       None   \n",
       "3    2.670396    0.147178            Busia      KE040     None       None   \n",
       "4    3.888933    0.244432  Elgeyo-Marakwet      KE028     None       None   \n",
       "\n",
       "  ADM1ALT2EN ADM0_EN ADM0_PCODE        date     validOn validTo  \\\n",
       "0       None   Kenya         KE  2017-11-03  2019-10-31    None   \n",
       "1       None   Kenya         KE  2017-11-03  2019-10-31    None   \n",
       "2       None   Kenya         KE  2017-11-03  2019-10-31    None   \n",
       "3       None   Kenya         KE  2017-11-03  2019-10-31    None   \n",
       "4       None   Kenya         KE  2017-11-03  2019-10-31    None   \n",
       "\n",
       "                                            geometry  num_schools  \n",
       "0  POLYGON ((35.78390 1.65557, 35.78496 1.65554, ...        297.0  \n",
       "1  POLYGON ((35.47360 -0.39920, 35.47845 -0.40663...          2.0  \n",
       "2  POLYGON ((34.62017 1.10228, 34.62133 1.10160, ...        158.0  \n",
       "3  POLYGON ((34.36097 0.77730, 34.36172 0.77696, ...         69.0  \n",
       "4  POLYGON ((35.69818 1.28225, 35.69788 1.27905, ...          5.0  "
      ]
     },
     "execution_count": 43,
     "metadata": {},
     "output_type": "execute_result"
    }
   ],
   "source": [
    "#now to plot the number of schools per county, we need the geometry objects for the counties, so merge \n",
    "#school counts back to the kenya geodataframe\n",
    "#Can you see this time it is not a spatial join, but a join based on a key column?\n",
    "\n",
    "counties_gdf = kenya.merge(school_counts, on='ADM1_EN', how='left')\n",
    "counties_gdf['num_schools'] = counties_gdf['num_schools'].fillna(0)\n",
    "counties_gdf.head()"
   ]
  },
  {
   "cell_type": "markdown",
   "metadata": {},
   "source": [
    "## Plotting Choropleths..."
   ]
  },
  {
   "cell_type": "code",
   "execution_count": 45,
   "metadata": {},
   "outputs": [
    {
     "data": {
      "text/plain": [
       "<Figure size 1000x600 with 0 Axes>"
      ]
     },
     "metadata": {},
     "output_type": "display_data"
    },
    {
     "data": {
      "image/png": "[encoded data removed]",
      "text/plain": [
       "<Figure size 640x480 with 2 Axes>"
      ]
     },
     "metadata": {},
     "output_type": "display_data"
    }
   ],
   "source": [
    "import matplotlib.pyplot as plt\n",
    "\n",
    "plt.figure(figsize=(10, 6))\n",
    "counties_gdf.plot(column='num_schools', cmap='coolwarm', legend=True, edgecolor='black')\n",
    "\n",
    "plt.title(\"Number of Schools per County in Kenya\", fontsize=10)\n",
    "plt.show()"
   ]
  },
  {
   "cell_type": "markdown",
   "metadata": {},
   "source": [
    "### Take Home Assignment for Spatial Analysis\n",
    "\n",
    "1. Plot the distribution of hospitals per county in Kenya.\n",
    "2. Show on a map, which county would be considered the unsafest- based solely on the number of police stations"
   ]
  },
  {
   "cell_type": "markdown",
   "metadata": {},
   "source": []
  }
 ],
 "metadata": {
  "kernelspec": {
   "display_name": "geopandas-env",
   "language": "python",
   "name": "python3"
  },
  "language_info": {
   "codemirror_mode": {
    "name": "ipython",
    "version": 3
   },
   "file_extension": ".py",
   "mimetype": "text/x-python",
   "name": "python",
   "nbconvert_exporter": "python",
   "pygments_lexer": "ipython3",
   "version": "3.10.16"
  }
 },
 "nbformat": 4,
 "nbformat_minor": 2
}
